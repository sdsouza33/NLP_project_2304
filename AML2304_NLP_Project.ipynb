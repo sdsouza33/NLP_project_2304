{
 "cells": [
  {
   "cell_type": "code",
   "execution_count": 1,
   "metadata": {},
   "outputs": [],
   "source": [
    "import pandas as pd"
   ]
  },
  {
   "cell_type": "code",
   "execution_count": 2,
   "metadata": {},
   "outputs": [],
   "source": [
    "#Data file reading\n",
    "try:\n",
    "    pse_isr_df=pd.read_csv(r\"C:\\Users\\user\\Desktop\\DATA BACK UP\\Data_sdsouza33\\LAMBTON\\SEM 3\\NLP\\project\\pse_isr_reddit_comments.csv\")\n",
    "except Exception as e:\n",
    "    print(\"Exception while reading file\",e)"
   ]
  },
  {
   "cell_type": "code",
   "execution_count": 3,
   "metadata": {},
   "outputs": [
    {
     "name": "stdout",
     "output_type": "stream",
     "text": [
      "<class 'pandas.core.frame.DataFrame'>\n",
      "RangeIndex: 513557 entries, 0 to 513556\n",
      "Data columns (total 5 columns):\n",
      " #   Column        Non-Null Count   Dtype \n",
      "---  ------        --------------   ----- \n",
      " 0   comment_id    513557 non-null  object\n",
      " 1   score         513557 non-null  int64 \n",
      " 2   self_text     513555 non-null  object\n",
      " 3   subreddit     513557 non-null  object\n",
      " 4   created_time  513557 non-null  object\n",
      "dtypes: int64(1), object(4)\n",
      "memory usage: 19.6+ MB\n"
     ]
    }
   ],
   "source": [
    "#Data Exploration\n",
    "pse_isr_df.info()"
   ]
  },
  {
   "cell_type": "code",
   "execution_count": 4,
   "metadata": {},
   "outputs": [
    {
     "data": {
      "text/plain": [
       "0                                                    k\n",
       "1    What is he firing? Looks home made? And what i...\n",
       "2    I mean you did run away from the question firs...\n",
       "3    There is a difference between footage showing ...\n",
       "4                             Not feeding you anymore.\n",
       "Name: self_text, dtype: object"
      ]
     },
     "execution_count": 4,
     "metadata": {},
     "output_type": "execute_result"
    }
   ],
   "source": [
    "pse_isr_df['self_text'].head(5)"
   ]
  },
  {
   "cell_type": "code",
   "execution_count": 5,
   "metadata": {},
   "outputs": [
    {
     "name": "stdout",
     "output_type": "stream",
     "text": [
      "Total number of null values in the DataFrame:  comment_id      0\n",
      "score           0\n",
      "self_text       2\n",
      "subreddit       0\n",
      "created_time    0\n",
      "dtype: int64\n"
     ]
    },
    {
     "data": {
      "text/plain": [
       "comment_id      513555\n",
       "score           513555\n",
       "self_text       513555\n",
       "subreddit       513555\n",
       "created_time    513555\n",
       "dtype: int64"
      ]
     },
     "execution_count": 5,
     "metadata": {},
     "output_type": "execute_result"
    }
   ],
   "source": [
    "null_counts = pse_isr_df.isnull().sum()\n",
    "print(\"Total number of null values in the DataFrame: \", null_counts)\n",
    "pse_isr_df=pse_isr_df.dropna()\n",
    "pse_isr_df.count()\n",
    "\n"
   ]
  },
  {
   "cell_type": "code",
   "execution_count": 6,
   "metadata": {},
   "outputs": [
    {
     "data": {
      "text/html": [
       "<div>\n",
       "<style scoped>\n",
       "    .dataframe tbody tr th:only-of-type {\n",
       "        vertical-align: middle;\n",
       "    }\n",
       "\n",
       "    .dataframe tbody tr th {\n",
       "        vertical-align: top;\n",
       "    }\n",
       "\n",
       "    .dataframe thead th {\n",
       "        text-align: right;\n",
       "    }\n",
       "</style>\n",
       "<table border=\"1\" class=\"dataframe\">\n",
       "  <thead>\n",
       "    <tr style=\"text-align: right;\">\n",
       "      <th></th>\n",
       "      <th>comment_id</th>\n",
       "      <th>score</th>\n",
       "      <th>self_text</th>\n",
       "      <th>subreddit</th>\n",
       "      <th>created_time</th>\n",
       "      <th>vote</th>\n",
       "    </tr>\n",
       "  </thead>\n",
       "  <tbody>\n",
       "    <tr>\n",
       "      <th>0</th>\n",
       "      <td>k7kxio7</td>\n",
       "      <td>1</td>\n",
       "      <td>k</td>\n",
       "      <td>CombatFootage</td>\n",
       "      <td>2023-11-02 23:49:37+00:00</td>\n",
       "      <td>Upvote</td>\n",
       "    </tr>\n",
       "    <tr>\n",
       "      <th>1</th>\n",
       "      <td>k7kxho7</td>\n",
       "      <td>1</td>\n",
       "      <td>What is he firing? Looks home made? And what i...</td>\n",
       "      <td>CombatFootage</td>\n",
       "      <td>2023-11-02 23:49:25+00:00</td>\n",
       "      <td>Upvote</td>\n",
       "    </tr>\n",
       "    <tr>\n",
       "      <th>2</th>\n",
       "      <td>k7kxhem</td>\n",
       "      <td>1</td>\n",
       "      <td>I mean you did run away from the question firs...</td>\n",
       "      <td>CombatFootage</td>\n",
       "      <td>2023-11-02 23:49:22+00:00</td>\n",
       "      <td>Upvote</td>\n",
       "    </tr>\n",
       "    <tr>\n",
       "      <th>3</th>\n",
       "      <td>k7kxgzg</td>\n",
       "      <td>2</td>\n",
       "      <td>There is a difference between footage showing ...</td>\n",
       "      <td>CombatFootage</td>\n",
       "      <td>2023-11-02 23:49:18+00:00</td>\n",
       "      <td>Upvote</td>\n",
       "    </tr>\n",
       "    <tr>\n",
       "      <th>4</th>\n",
       "      <td>k7kxgne</td>\n",
       "      <td>1</td>\n",
       "      <td>Not feeding you anymore.</td>\n",
       "      <td>CombatFootage</td>\n",
       "      <td>2023-11-02 23:49:14+00:00</td>\n",
       "      <td>Upvote</td>\n",
       "    </tr>\n",
       "  </tbody>\n",
       "</table>\n",
       "</div>"
      ],
      "text/plain": [
       "  comment_id  score                                          self_text  \\\n",
       "0    k7kxio7      1                                                  k   \n",
       "1    k7kxho7      1  What is he firing? Looks home made? And what i...   \n",
       "2    k7kxhem      1  I mean you did run away from the question firs...   \n",
       "3    k7kxgzg      2  There is a difference between footage showing ...   \n",
       "4    k7kxgne      1                           Not feeding you anymore.   \n",
       "\n",
       "       subreddit               created_time    vote  \n",
       "0  CombatFootage  2023-11-02 23:49:37+00:00  Upvote  \n",
       "1  CombatFootage  2023-11-02 23:49:25+00:00  Upvote  \n",
       "2  CombatFootage  2023-11-02 23:49:22+00:00  Upvote  \n",
       "3  CombatFootage  2023-11-02 23:49:18+00:00  Upvote  \n",
       "4  CombatFootage  2023-11-02 23:49:14+00:00  Upvote  "
      ]
     },
     "execution_count": 6,
     "metadata": {},
     "output_type": "execute_result"
    }
   ],
   "source": [
    "#Added new column 'vote' which shows upvote and downvote for the comment based on the score.\n",
    "pse_isr_df['vote']=pse_isr_df['score'].apply(lambda x: 'Upvote' if x>0 else 'Downvote')\n",
    "#pse_isr_df['vote']=pse_isr_df['score'].apply(lambda x: 'Upvote' if x>0 else ('Downvote' if x<0 else 'Neutral'))\n",
    "pse_isr_df.head(5)\n"
   ]
  },
  {
   "cell_type": "code",
   "execution_count": 7,
   "metadata": {},
   "outputs": [
    {
     "data": {
      "text/html": [
       "<div>\n",
       "<style scoped>\n",
       "    .dataframe tbody tr th:only-of-type {\n",
       "        vertical-align: middle;\n",
       "    }\n",
       "\n",
       "    .dataframe tbody tr th {\n",
       "        vertical-align: top;\n",
       "    }\n",
       "\n",
       "    .dataframe thead th {\n",
       "        text-align: right;\n",
       "    }\n",
       "</style>\n",
       "<table border=\"1\" class=\"dataframe\">\n",
       "  <thead>\n",
       "    <tr style=\"text-align: right;\">\n",
       "      <th></th>\n",
       "      <th>comment_id</th>\n",
       "      <th>score</th>\n",
       "      <th>self_text</th>\n",
       "      <th>subreddit</th>\n",
       "      <th>created_time</th>\n",
       "      <th>vote</th>\n",
       "      <th>EncodedVote</th>\n",
       "    </tr>\n",
       "  </thead>\n",
       "  <tbody>\n",
       "    <tr>\n",
       "      <th>0</th>\n",
       "      <td>k7kxio7</td>\n",
       "      <td>1</td>\n",
       "      <td>k</td>\n",
       "      <td>CombatFootage</td>\n",
       "      <td>2023-11-02 23:49:37+00:00</td>\n",
       "      <td>Upvote</td>\n",
       "      <td>1</td>\n",
       "    </tr>\n",
       "    <tr>\n",
       "      <th>1</th>\n",
       "      <td>k7kxho7</td>\n",
       "      <td>1</td>\n",
       "      <td>What is he firing? Looks home made? And what i...</td>\n",
       "      <td>CombatFootage</td>\n",
       "      <td>2023-11-02 23:49:25+00:00</td>\n",
       "      <td>Upvote</td>\n",
       "      <td>1</td>\n",
       "    </tr>\n",
       "    <tr>\n",
       "      <th>2</th>\n",
       "      <td>k7kxhem</td>\n",
       "      <td>1</td>\n",
       "      <td>I mean you did run away from the question firs...</td>\n",
       "      <td>CombatFootage</td>\n",
       "      <td>2023-11-02 23:49:22+00:00</td>\n",
       "      <td>Upvote</td>\n",
       "      <td>1</td>\n",
       "    </tr>\n",
       "    <tr>\n",
       "      <th>3</th>\n",
       "      <td>k7kxgzg</td>\n",
       "      <td>2</td>\n",
       "      <td>There is a difference between footage showing ...</td>\n",
       "      <td>CombatFootage</td>\n",
       "      <td>2023-11-02 23:49:18+00:00</td>\n",
       "      <td>Upvote</td>\n",
       "      <td>1</td>\n",
       "    </tr>\n",
       "    <tr>\n",
       "      <th>4</th>\n",
       "      <td>k7kxgne</td>\n",
       "      <td>1</td>\n",
       "      <td>Not feeding you anymore.</td>\n",
       "      <td>CombatFootage</td>\n",
       "      <td>2023-11-02 23:49:14+00:00</td>\n",
       "      <td>Upvote</td>\n",
       "      <td>1</td>\n",
       "    </tr>\n",
       "  </tbody>\n",
       "</table>\n",
       "</div>"
      ],
      "text/plain": [
       "  comment_id  score                                          self_text  \\\n",
       "0    k7kxio7      1                                                  k   \n",
       "1    k7kxho7      1  What is he firing? Looks home made? And what i...   \n",
       "2    k7kxhem      1  I mean you did run away from the question firs...   \n",
       "3    k7kxgzg      2  There is a difference between footage showing ...   \n",
       "4    k7kxgne      1                           Not feeding you anymore.   \n",
       "\n",
       "       subreddit               created_time    vote  EncodedVote  \n",
       "0  CombatFootage  2023-11-02 23:49:37+00:00  Upvote            1  \n",
       "1  CombatFootage  2023-11-02 23:49:25+00:00  Upvote            1  \n",
       "2  CombatFootage  2023-11-02 23:49:22+00:00  Upvote            1  \n",
       "3  CombatFootage  2023-11-02 23:49:18+00:00  Upvote            1  \n",
       "4  CombatFootage  2023-11-02 23:49:14+00:00  Upvote            1  "
      ]
     },
     "execution_count": 7,
     "metadata": {},
     "output_type": "execute_result"
    }
   ],
   "source": [
    "#Using Labelencoder to convert the labels of upvote as 1 and Downvote to 0.\n",
    "from sklearn.preprocessing import LabelEncoder\n",
    "\n",
    "\n",
    "vote = pse_isr_df['vote'].values\n",
    "\n",
    "encoder = LabelEncoder()\n",
    "encoded_vote = encoder.fit_transform(vote)\n",
    "pse_isr_df['EncodedVote']=encoded_vote\n",
    "pse_isr_df.head(5)"
   ]
  },
  {
   "cell_type": "code",
   "execution_count": 8,
   "metadata": {},
   "outputs": [
    {
     "data": {
      "text/plain": [
       "EncodedVote\n",
       "1    449005\n",
       "0     64550\n",
       "Name: count, dtype: int64"
      ]
     },
     "execution_count": 8,
     "metadata": {},
     "output_type": "execute_result"
    }
   ],
   "source": [
    "#Check whether the data is balanced or not\n",
    "pse_isr_df['EncodedVote'].value_counts()\n",
    "\n",
    "#Data is highly imbalanced"
   ]
  },
  {
   "cell_type": "code",
   "execution_count": 9,
   "metadata": {},
   "outputs": [],
   "source": [
    "import nltk\n",
    "import re\n",
    "from bs4 import BeautifulSoup\n",
    "from nltk.stem import WordNetLemmatizer\n",
    "from nltk.corpus import stopwords\n",
    "from nltk.tokenize import word_tokenize"
   ]
  },
  {
   "cell_type": "code",
   "execution_count": 10,
   "metadata": {},
   "outputs": [
    {
     "name": "stderr",
     "output_type": "stream",
     "text": [
      "C:\\Users\\user\\AppData\\Local\\Temp\\ipykernel_26816\\1385073975.py:12: MarkupResemblesLocatorWarning: The input looks more like a filename than markup. You may want to open this file and pass the filehandle into Beautiful Soup.\n",
      "  soup = BeautifulSoup(text, 'html.parser')\n"
     ]
    },
    {
     "data": {
      "text/plain": [
       "0                                                         k\n",
       "1                             firing look home made outcome\n",
       "2                         mean run away question first time\n",
       "3         difference footage showing terrorist activity ...\n",
       "4                                           feeding anymore\n",
       "                                ...                        \n",
       "513552                                           u bullshit\n",
       "513553    united state dotted west bank gaza strip altho...\n",
       "513554    country sometimes map adapt country view matte...\n",
       "513555    cant give something pretended support cynical ...\n",
       "513556    head islamic jihad denounced arab attempt norm...\n",
       "Name: clean_text, Length: 513555, dtype: object"
      ]
     },
     "execution_count": 10,
     "metadata": {},
     "output_type": "execute_result"
    }
   ],
   "source": [
    "#Data Cleaning before model building\n",
    "\n",
    "# Initialize the lemmatizer and stopwords\n",
    "lemmatizer = WordNetLemmatizer()\n",
    "stop_words = set(stopwords.words('english'))\n",
    "\n",
    "def clean_text(text):\n",
    "    # Remove URLs\n",
    "    text = re.sub(r'http\\S+', '', text)\n",
    "    \n",
    "    # Remove HTML tags\n",
    "    soup = BeautifulSoup(text, 'html.parser')\n",
    "    text = soup.get_text()\n",
    "    \n",
    "    # Remove special characters and lowercase the text\n",
    "    text = re.sub(r'[^a-zA-Z0-9\\s]', '', text).lower()\n",
    "    \n",
    "    # Tokenization\n",
    "    tokens = word_tokenize(text)\n",
    "    \n",
    "    # Lemmatization and removing stopwords\n",
    "    tokens = [lemmatizer.lemmatize(token) for token in tokens if token not in stop_words]\n",
    "    \n",
    "    # Join the tokens back into a sentence\n",
    "    cleaned_text = ' '.join(tokens)\n",
    "    \n",
    "    return cleaned_text\n",
    "\n",
    "\n",
    "pse_isr_df['clean_text'] = pse_isr_df['self_text'].apply(clean_text)\n",
    "pse_isr_df['clean_text']"
   ]
  },
  {
   "cell_type": "code",
   "execution_count": 11,
   "metadata": {},
   "outputs": [],
   "source": [
    "from sklearn.model_selection import train_test_split\n",
    "from sklearn.feature_extraction.text import CountVectorizer\n",
    "from sklearn.naive_bayes import MultinomialNB\n",
    "from sklearn.metrics import accuracy_score,classification_report,confusion_matrix\n"
   ]
  },
  {
   "cell_type": "code",
   "execution_count": 12,
   "metadata": {},
   "outputs": [],
   "source": [
    "from sklearn.feature_extraction.text import TfidfVectorizer\n",
    "\n",
    "vectorizer = TfidfVectorizer(ngram_range=(1, 1), max_features=5000)  # Adjust max_features as needed\n",
    "X = vectorizer.fit_transform(pse_isr_df['clean_text'])\n",
    "y = pse_isr_df['vote']"
   ]
  },
  {
   "cell_type": "code",
   "execution_count": 13,
   "metadata": {},
   "outputs": [],
   "source": [
    "\n",
    "from sklearn.datasets import make_classification\n",
    "from imblearn.over_sampling import SMOTE  \n",
    "from collections import Counter\n",
    "from sklearn.ensemble import RandomForestClassifier\n",
    "\n",
    "X_train, X_test, y_train, y_test = train_test_split(X, y, test_size=0.3, random_state=42)\n",
    "\n",
    "# Applying SMOTE to balance the dataset\n",
    "smote = SMOTE(random_state=42)\n",
    "X_train_sm, y_train_sm = smote.fit_resample(X_train, y_train)\n",
    "\n",
    "# Model Training\n",
    "clf = RandomForestClassifier(n_estimators=50, min_samples_split=4, min_samples_leaf=2, n_jobs=-1, random_state=42)\n",
    "clf.fit(X_train_sm, y_train_sm)\n",
    "\n",
    "# Making Predictions\n",
    "y_pred = clf.predict(X_test)"
   ]
  },
  {
   "cell_type": "code",
   "execution_count": 15,
   "metadata": {},
   "outputs": [
    {
     "name": "stdout",
     "output_type": "stream",
     "text": [
      "Class distribution before SMOTE: Counter({1: 399104, 0: 57919})\n",
      "Class distribution after SMOTE: Counter({1: 399104, 0: 399104})\n"
     ]
    }
   ],
   "source": [
    "\n",
    "# dont run, use only to show output. \n",
    "from sklearn.datasets import make_classification\n",
    "from imblearn.over_sampling import SMOTE  \n",
    "from collections import Counter\n",
    "\n",
    "print(\"Class distribution before SMOTE:\", Counter(y_train))\n",
    "\n",
    "# Apply SMOTE\n",
    "smote = SMOTE()\n",
    "Xtrain_sm, ytrain_sm = smote.fit_resample(X_train, y_train)\n",
    "\n",
    "# Display the class distribution after SMOTE\n",
    "print(\"Class distribution after SMOTE:\", Counter(ytrain_sm))\n",
    " "
   ]
  },
  {
   "cell_type": "code",
   "execution_count": 14,
   "metadata": {},
   "outputs": [
    {
     "name": "stdout",
     "output_type": "stream",
     "text": [
      "Accuracy: 0.827042780089182\n",
      "Classification Report: \n",
      "              precision    recall  f1-score   support\n",
      "\n",
      "    Downvote       0.16      0.09      0.11     19441\n",
      "      Upvote       0.88      0.93      0.90    134626\n",
      "\n",
      "    accuracy                           0.83    154067\n",
      "   macro avg       0.52      0.51      0.51    154067\n",
      "weighted avg       0.79      0.83      0.80    154067\n",
      "\n",
      "Confusion Matrix: \n",
      "[[  1687  17754]\n",
      " [  8893 125733]]\n"
     ]
    }
   ],
   "source": [
    "accuracy = accuracy_score(y_test, y_pred)\n",
    "classification_rep = classification_report(y_test, y_pred)\n",
    "conf_matrix = confusion_matrix(y_test, y_pred)\n",
    "\n",
    "print(f'Accuracy: {accuracy}')\n",
    "print(f'Classification Report: \\n{classification_rep}')\n",
    "print(f'Confusion Matrix: \\n{conf_matrix}')"
   ]
  },
  {
   "cell_type": "code",
   "execution_count": 15,
   "metadata": {},
   "outputs": [
    {
     "name": "stdout",
     "output_type": "stream",
     "text": [
      "Likely to get an Upvote\n",
      "Probability of getting an Upvote: 73.95%\n",
      "Probability of getting a Downvote: 26.05%\n"
     ]
    }
   ],
   "source": [
    "msg = input(\"Enter Message: \")\n",
    "preprocessed_msg = clean_text(msg)\n",
    "\n",
    "msg_input = vectorizer.transform([preprocessed_msg])\n",
    "predict = clf.predict(msg_input)\n",
    "\n",
    "if predict[0] == 'Upvote':\n",
    "    print(\"Likely to get an Upvote\")\n",
    "else:\n",
    "    print(\"Likely to get a Downvote\")\n",
    "\n",
    "\n",
    "probabilities = clf.predict_proba(msg_input)\n",
    "\n",
    "# Assuming the second class corresponds to 'Upvote'\n",
    "# and the first class corresponds to 'Downvote'\n",
    "upvote_probability = probabilities[0][1] * 100\n",
    "downvote_probability = probabilities[0][0] * 100\n",
    "\n",
    "# Displaying the results\n",
    "print(f\"Probability of getting an Upvote: {upvote_probability:.2f}%\")\n",
    "print(f\"Probability of getting a Downvote: {downvote_probability:.2f}%\")"
   ]
  },
  {
   "cell_type": "code",
   "execution_count": 17,
   "metadata": {},
   "outputs": [
    {
     "data": {
      "text/plain": [
       "['tfidf_vectorizer.joblib']"
      ]
     },
     "execution_count": 17,
     "metadata": {},
     "output_type": "execute_result"
    }
   ],
   "source": [
    "# saving th model\n",
    "\n",
    "# from joblib import dump\n",
    "\n",
    "# dump(clf, 'reddit_upvote_downvote_model.joblib') #save model\n",
    "# dump(vectorizer, 'tfidf_vectorizer.joblib') # saving vectors"
   ]
  },
  {
   "cell_type": "code",
   "execution_count": null,
   "metadata": {},
   "outputs": [],
   "source": []
  }
 ],
 "metadata": {
  "kernelspec": {
   "display_name": "Python 3",
   "language": "python",
   "name": "python3"
  },
  "language_info": {
   "codemirror_mode": {
    "name": "ipython",
    "version": 3
   },
   "file_extension": ".py",
   "mimetype": "text/x-python",
   "name": "python",
   "nbconvert_exporter": "python",
   "pygments_lexer": "ipython3",
   "version": "3.10.0"
  }
 },
 "nbformat": 4,
 "nbformat_minor": 2
}
