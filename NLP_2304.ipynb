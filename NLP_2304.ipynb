{
 "cells": [
  {
   "cell_type": "code",
   "execution_count": 26,
   "metadata": {},
   "outputs": [],
   "source": [
    "import pandas as pd\n",
    "import nltk\n",
    "import re\n",
    "from bs4 import BeautifulSoup"
   ]
  },
  {
   "cell_type": "code",
   "execution_count": 27,
   "metadata": {},
   "outputs": [],
   "source": [
    "data = pd.read_csv(r\"C:\\Users\\user\\Desktop\\DATA BACK UP\\Data_sdsouza33\\LAMBTON\\SEM 3\\NLP\\project\\pse_isr_reddit_comments.csv\")"
   ]
  },
  {
   "cell_type": "code",
   "execution_count": 28,
   "metadata": {},
   "outputs": [
    {
     "data": {
      "text/html": [
       "<div>\n",
       "<style scoped>\n",
       "    .dataframe tbody tr th:only-of-type {\n",
       "        vertical-align: middle;\n",
       "    }\n",
       "\n",
       "    .dataframe tbody tr th {\n",
       "        vertical-align: top;\n",
       "    }\n",
       "\n",
       "    .dataframe thead th {\n",
       "        text-align: right;\n",
       "    }\n",
       "</style>\n",
       "<table border=\"1\" class=\"dataframe\">\n",
       "  <thead>\n",
       "    <tr style=\"text-align: right;\">\n",
       "      <th></th>\n",
       "      <th>comment_id</th>\n",
       "      <th>score</th>\n",
       "      <th>self_text</th>\n",
       "      <th>subreddit</th>\n",
       "      <th>created_time</th>\n",
       "    </tr>\n",
       "  </thead>\n",
       "  <tbody>\n",
       "    <tr>\n",
       "      <th>0</th>\n",
       "      <td>k7kxio7</td>\n",
       "      <td>1</td>\n",
       "      <td>k</td>\n",
       "      <td>CombatFootage</td>\n",
       "      <td>2023-11-02 23:49:37+00:00</td>\n",
       "    </tr>\n",
       "    <tr>\n",
       "      <th>1</th>\n",
       "      <td>k7kxho7</td>\n",
       "      <td>1</td>\n",
       "      <td>What is he firing? Looks home made? And what i...</td>\n",
       "      <td>CombatFootage</td>\n",
       "      <td>2023-11-02 23:49:25+00:00</td>\n",
       "    </tr>\n",
       "    <tr>\n",
       "      <th>2</th>\n",
       "      <td>k7kxhem</td>\n",
       "      <td>1</td>\n",
       "      <td>I mean you did run away from the question firs...</td>\n",
       "      <td>CombatFootage</td>\n",
       "      <td>2023-11-02 23:49:22+00:00</td>\n",
       "    </tr>\n",
       "    <tr>\n",
       "      <th>3</th>\n",
       "      <td>k7kxgzg</td>\n",
       "      <td>2</td>\n",
       "      <td>There is a difference between footage showing ...</td>\n",
       "      <td>CombatFootage</td>\n",
       "      <td>2023-11-02 23:49:18+00:00</td>\n",
       "    </tr>\n",
       "    <tr>\n",
       "      <th>4</th>\n",
       "      <td>k7kxgne</td>\n",
       "      <td>1</td>\n",
       "      <td>Not feeding you anymore.</td>\n",
       "      <td>CombatFootage</td>\n",
       "      <td>2023-11-02 23:49:14+00:00</td>\n",
       "    </tr>\n",
       "  </tbody>\n",
       "</table>\n",
       "</div>"
      ],
      "text/plain": [
       "  comment_id  score                                          self_text  \\\n",
       "0    k7kxio7      1                                                  k   \n",
       "1    k7kxho7      1  What is he firing? Looks home made? And what i...   \n",
       "2    k7kxhem      1  I mean you did run away from the question firs...   \n",
       "3    k7kxgzg      2  There is a difference between footage showing ...   \n",
       "4    k7kxgne      1                           Not feeding you anymore.   \n",
       "\n",
       "       subreddit              created_time  \n",
       "0  CombatFootage 2023-11-02 23:49:37+00:00  \n",
       "1  CombatFootage 2023-11-02 23:49:25+00:00  \n",
       "2  CombatFootage 2023-11-02 23:49:22+00:00  \n",
       "3  CombatFootage 2023-11-02 23:49:18+00:00  \n",
       "4  CombatFootage 2023-11-02 23:49:14+00:00  "
      ]
     },
     "execution_count": 28,
     "metadata": {},
     "output_type": "execute_result"
    }
   ],
   "source": [
    "# as per the dataset, doing some pre processing of converting system time to UTC standard DT\n",
    "data['created_time'] = pd.to_datetime(data['created_time']).dt.tz_convert('UTC')\n",
    "data.head()"
   ]
  },
  {
   "cell_type": "code",
   "execution_count": 29,
   "metadata": {},
   "outputs": [
    {
     "data": {
      "text/html": [
       "<div>\n",
       "<style scoped>\n",
       "    .dataframe tbody tr th:only-of-type {\n",
       "        vertical-align: middle;\n",
       "    }\n",
       "\n",
       "    .dataframe tbody tr th {\n",
       "        vertical-align: top;\n",
       "    }\n",
       "\n",
       "    .dataframe thead th {\n",
       "        text-align: right;\n",
       "    }\n",
       "</style>\n",
       "<table border=\"1\" class=\"dataframe\">\n",
       "  <thead>\n",
       "    <tr style=\"text-align: right;\">\n",
       "      <th></th>\n",
       "      <th>score</th>\n",
       "    </tr>\n",
       "  </thead>\n",
       "  <tbody>\n",
       "    <tr>\n",
       "      <th>count</th>\n",
       "      <td>513557.000000</td>\n",
       "    </tr>\n",
       "    <tr>\n",
       "      <th>mean</th>\n",
       "      <td>25.441121</td>\n",
       "    </tr>\n",
       "    <tr>\n",
       "      <th>std</th>\n",
       "      <td>164.527875</td>\n",
       "    </tr>\n",
       "    <tr>\n",
       "      <th>min</th>\n",
       "      <td>-1372.000000</td>\n",
       "    </tr>\n",
       "    <tr>\n",
       "      <th>25%</th>\n",
       "      <td>1.000000</td>\n",
       "    </tr>\n",
       "    <tr>\n",
       "      <th>50%</th>\n",
       "      <td>2.000000</td>\n",
       "    </tr>\n",
       "    <tr>\n",
       "      <th>75%</th>\n",
       "      <td>9.000000</td>\n",
       "    </tr>\n",
       "    <tr>\n",
       "      <th>max</th>\n",
       "      <td>16463.000000</td>\n",
       "    </tr>\n",
       "  </tbody>\n",
       "</table>\n",
       "</div>"
      ],
      "text/plain": [
       "               score\n",
       "count  513557.000000\n",
       "mean       25.441121\n",
       "std       164.527875\n",
       "min     -1372.000000\n",
       "25%         1.000000\n",
       "50%         2.000000\n",
       "75%         9.000000\n",
       "max     16463.000000"
      ]
     },
     "execution_count": 29,
     "metadata": {},
     "output_type": "execute_result"
    }
   ],
   "source": [
    "data.describe()"
   ]
  },
  {
   "cell_type": "code",
   "execution_count": 30,
   "metadata": {},
   "outputs": [
    {
     "name": "stdout",
     "output_type": "stream",
     "text": [
      "<class 'pandas.core.frame.DataFrame'>\n",
      "RangeIndex: 513557 entries, 0 to 513556\n",
      "Data columns (total 5 columns):\n",
      " #   Column        Non-Null Count   Dtype              \n",
      "---  ------        --------------   -----              \n",
      " 0   comment_id    513557 non-null  object             \n",
      " 1   score         513557 non-null  int64              \n",
      " 2   self_text     513555 non-null  object             \n",
      " 3   subreddit     513557 non-null  object             \n",
      " 4   created_time  513557 non-null  datetime64[ns, UTC]\n",
      "dtypes: datetime64[ns, UTC](1), int64(1), object(3)\n",
      "memory usage: 19.6+ MB\n"
     ]
    }
   ],
   "source": [
    "data.info()"
   ]
  },
  {
   "cell_type": "code",
   "execution_count": 35,
   "metadata": {},
   "outputs": [
    {
     "name": "stderr",
     "output_type": "stream",
     "text": [
      "C:\\Users\\user\\AppData\\Local\\Temp\\ipykernel_20296\\1982359991.py:8: MarkupResemblesLocatorWarning: The input looks more like a filename than markup. You may want to open this file and pass the filehandle into Beautiful Soup.\n",
      "  data['self_text'] = data['self_text'].apply(lambda x: BeautifulSoup(x, \"html.parser\").get_text() if pd.notnull(x) else x) #https://stackoverflow.com/questions/9662346/python-code-to-remove-html-tags-from-a-string\n"
     ]
    }
   ],
   "source": [
    "# cleaning data - removing stopwords, html data, URLs or any special character\n",
    "\n",
    "# removing URLs\n",
    "data['self_text'] = data['self_text'].apply(lambda x: re.sub(r'http\\S+', '', x) if pd.notnull(x) else x)  #https://stackoverflow.com/questions/11331982/how-to-remove-any-url-within-a-string-in-python\n",
    "# applied pd.notnull as it gives an error since our data has null value and .apply cant take in non string value\n",
    "\n",
    "# removing HTML data\n",
    "data['self_text'] = data['self_text'].apply(lambda x: BeautifulSoup(x, \"html.parser\").get_text() if pd.notnull(x) else x) #https://stackoverflow.com/questions/9662346/python-code-to-remove-html-tags-from-a-string\n",
    "\n",
    "# removing speciall chars\n",
    "data['self_text'] = data['self_text'].apply(lambda x: re.sub(r'[^a-zA-Z0-9\\s]', '', x).lower() if pd.notnull(x) else x)\n",
    "\n"
   ]
  },
  {
   "cell_type": "code",
   "execution_count": 39,
   "metadata": {},
   "outputs": [],
   "source": [
    "from nltk.stem import WordNetLemmatizer\n",
    "from nltk.corpus import stopwords\n",
    "from nltk.tokenize import word_tokenize\n",
    "\n",
    "lemmatizer = WordNetLemmatizer()\n",
    "stop_words = set(stopwords.words('english') )"
   ]
  },
  {
   "cell_type": "code",
   "execution_count": 46,
   "metadata": {},
   "outputs": [],
   "source": [
    "# tokenization and stop words removal\n",
    "data['self_text'] = data['self_text'].apply(\n",
    "    lambda text: ' '.join(\n",
    "        word.lower() \n",
    "        for word in word_tokenize(text) \n",
    "        if word.lower() not in stop_words and word.isalnum()\n",
    "    ) if pd.notnull(text) else text\n",
    ")"
   ]
  },
  {
   "cell_type": "code",
   "execution_count": 8,
   "metadata": {},
   "outputs": [
    {
     "name": "stdout",
     "output_type": "stream",
     "text": [
      "['CombatFootage' 'IsraelPalestine' 'Palestine' 'AskMiddleEast' 'worldnews'\n",
      " 'PublicFreakout' 'worldnewsvideo' 'ActualPublicFreakouts'\n",
      " 'NonCredibleDefense' 'CrazyFuckingVideos' 'IsrealPalestineWar_23'\n",
      " 'TerrifyingAsFuck' 'AbruptChaos' 'NoahGetTheBoat']\n"
     ]
    }
   ],
   "source": [
    "# Question \n",
    "#1. Identify the most biased subreddits and understand their stance on the conflict. \n",
    "# How do we do this ? What if we check the sentiment of each subreddit and see their sentiment towards palestine/Israel ?\n",
    "# But that wouldnt solve bias, it just gives me sentiment   \n",
    "print(data['subreddit'].unique())\n",
    "\n",
    "\n",
    "# logic \n",
    "\n",
    "'''\n",
    "First we calculcate the sentiment for each comment and then group all the positive and negative sentiment by subreddit groups\n",
    "Once thats done, we will see how biased the positive and negative sentiments are pos - neg and then check if its more positively biased \n",
    "or negatively. \n",
    "\n",
    "\n",
    "'''"
   ]
  },
  {
   "cell_type": "code",
   "execution_count": null,
   "metadata": {},
   "outputs": [],
   "source": []
  }
 ],
 "metadata": {
  "kernelspec": {
   "display_name": "Python 3",
   "language": "python",
   "name": "python3"
  },
  "language_info": {
   "codemirror_mode": {
    "name": "ipython",
    "version": 3
   },
   "file_extension": ".py",
   "mimetype": "text/x-python",
   "name": "python",
   "nbconvert_exporter": "python",
   "pygments_lexer": "ipython3",
   "version": "3.10.0"
  }
 },
 "nbformat": 4,
 "nbformat_minor": 2
}
