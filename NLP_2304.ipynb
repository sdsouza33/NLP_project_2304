{
 "cells": [
  {
   "cell_type": "code",
   "execution_count": 2,
   "metadata": {},
   "outputs": [],
   "source": [
    "import pandas as pd\n",
    "import nltk"
   ]
  },
  {
   "cell_type": "code",
   "execution_count": 3,
   "metadata": {},
   "outputs": [],
   "source": [
    "data = pd.read_csv(\"pse_isr_reddit_comments.csv\")"
   ]
  },
  {
   "cell_type": "code",
   "execution_count": 4,
   "metadata": {},
   "outputs": [
    {
     "data": {
      "text/html": [
       "<div>\n",
       "<style scoped>\n",
       "    .dataframe tbody tr th:only-of-type {\n",
       "        vertical-align: middle;\n",
       "    }\n",
       "\n",
       "    .dataframe tbody tr th {\n",
       "        vertical-align: top;\n",
       "    }\n",
       "\n",
       "    .dataframe thead th {\n",
       "        text-align: right;\n",
       "    }\n",
       "</style>\n",
       "<table border=\"1\" class=\"dataframe\">\n",
       "  <thead>\n",
       "    <tr style=\"text-align: right;\">\n",
       "      <th></th>\n",
       "      <th>comment_id</th>\n",
       "      <th>score</th>\n",
       "      <th>self_text</th>\n",
       "      <th>subreddit</th>\n",
       "      <th>created_time</th>\n",
       "    </tr>\n",
       "  </thead>\n",
       "  <tbody>\n",
       "    <tr>\n",
       "      <th>0</th>\n",
       "      <td>k7kxio7</td>\n",
       "      <td>1</td>\n",
       "      <td>k</td>\n",
       "      <td>CombatFootage</td>\n",
       "      <td>2023-11-02 23:49:37+00:00</td>\n",
       "    </tr>\n",
       "    <tr>\n",
       "      <th>1</th>\n",
       "      <td>k7kxho7</td>\n",
       "      <td>1</td>\n",
       "      <td>What is he firing? Looks home made? And what i...</td>\n",
       "      <td>CombatFootage</td>\n",
       "      <td>2023-11-02 23:49:25+00:00</td>\n",
       "    </tr>\n",
       "    <tr>\n",
       "      <th>2</th>\n",
       "      <td>k7kxhem</td>\n",
       "      <td>1</td>\n",
       "      <td>I mean you did run away from the question firs...</td>\n",
       "      <td>CombatFootage</td>\n",
       "      <td>2023-11-02 23:49:22+00:00</td>\n",
       "    </tr>\n",
       "    <tr>\n",
       "      <th>3</th>\n",
       "      <td>k7kxgzg</td>\n",
       "      <td>2</td>\n",
       "      <td>There is a difference between footage showing ...</td>\n",
       "      <td>CombatFootage</td>\n",
       "      <td>2023-11-02 23:49:18+00:00</td>\n",
       "    </tr>\n",
       "    <tr>\n",
       "      <th>4</th>\n",
       "      <td>k7kxgne</td>\n",
       "      <td>1</td>\n",
       "      <td>Not feeding you anymore.</td>\n",
       "      <td>CombatFootage</td>\n",
       "      <td>2023-11-02 23:49:14+00:00</td>\n",
       "    </tr>\n",
       "  </tbody>\n",
       "</table>\n",
       "</div>"
      ],
      "text/plain": [
       "  comment_id  score                                          self_text  \\\n",
       "0    k7kxio7      1                                                  k   \n",
       "1    k7kxho7      1  What is he firing? Looks home made? And what i...   \n",
       "2    k7kxhem      1  I mean you did run away from the question firs...   \n",
       "3    k7kxgzg      2  There is a difference between footage showing ...   \n",
       "4    k7kxgne      1                           Not feeding you anymore.   \n",
       "\n",
       "       subreddit               created_time  \n",
       "0  CombatFootage  2023-11-02 23:49:37+00:00  \n",
       "1  CombatFootage  2023-11-02 23:49:25+00:00  \n",
       "2  CombatFootage  2023-11-02 23:49:22+00:00  \n",
       "3  CombatFootage  2023-11-02 23:49:18+00:00  \n",
       "4  CombatFootage  2023-11-02 23:49:14+00:00  "
      ]
     },
     "execution_count": 4,
     "metadata": {},
     "output_type": "execute_result"
    }
   ],
   "source": [
    "data.head()"
   ]
  },
  {
   "cell_type": "code",
   "execution_count": null,
   "metadata": {},
   "outputs": [],
   "source": [
    "data.describe()"
   ]
  },
  {
   "cell_type": "code",
   "execution_count": null,
   "metadata": {},
   "outputs": [],
   "source": []
  }
 ],
 "metadata": {
  "kernelspec": {
   "display_name": "Python 3",
   "language": "python",
   "name": "python3"
  },
  "language_info": {
   "codemirror_mode": {
    "name": "ipython",
    "version": 3
   },
   "file_extension": ".py",
   "mimetype": "text/x-python",
   "name": "python",
   "nbconvert_exporter": "python",
   "pygments_lexer": "ipython3",
   "version": "3.10.0"
  }
 },
 "nbformat": 4,
 "nbformat_minor": 2
}
